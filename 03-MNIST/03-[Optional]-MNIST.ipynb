{
 "cells": [
  {
   "cell_type": "markdown",
   "metadata": {},
   "source": [
    "# Recognizing handwritten digits ✍️"
   ]
  },
  {
   "cell_type": "markdown",
   "metadata": {},
   "source": [
    "---"
   ]
  },
  {
   "cell_type": "markdown",
   "metadata": {},
   "source": [
    "<img src=\"https://www.cenet.org/wp-content/uploads/2018/10/neonbrand-618322-unsplash.jpg\" />\n",
    "\n",
    "Photo by [Neon Brand](https://unsplash.com/@neonbrand)"
   ]
  },
  {
   "cell_type": "markdown",
   "metadata": {},
   "source": [
    "---"
   ]
  },
  {
   "cell_type": "markdown",
   "metadata": {},
   "source": [
    "MNIST is a dataset published in 1998 by *Yann LeCun* (current Head of AI at Facebook), *Corinna Cortes and Chris Burges* when working on handwritten digit recognition. \n",
    "\n",
    "It is **THE ultimate challenge** of computer vision data scientist: http://rodrigob.github.io/are_we_there_yet/build/classification_datasets_results.html\n",
    "\n",
    "<img style=\"margin-left:40px; width:250px;\" src=\"https://www.researchgate.net/profile/Kai_Labusch/publication/242300247/figure/fig1/AS:298429235384320@1448162482185/Samples-from-the-MNIST-data-set-of-handwritten-digits.png\">\n",
    "\n",
    "More information about the dataset: https://www.openml.org/d/554"
   ]
  },
  {
   "cell_type": "code",
   "execution_count": 2,
   "metadata": {},
   "outputs": [
    {
     "name": "stderr",
     "output_type": "stream",
     "text": [
      "/Users/schoolofdata/.pyenv/versions/3.10.12/envs/Artefact/lib/python3.10/site-packages/sklearn/datasets/_openml.py:1022: FutureWarning: The default value of `parser` will change from `'liac-arff'` to `'auto'` in 1.4. You can set `parser='auto'` to silence this warning. Therefore, an `ImportError` will be raised from 1.4 if the dataset is dense and pandas is not installed. Note that the pandas parser may return different data types. See the Notes Section in fetch_openml's API doc for details.\n",
      "  warn(\n"
     ]
    }
   ],
   "source": [
    "# First we load the data using scikit-learn (it takes a bit of time)\n",
    "import pandas as pd\n",
    "from sklearn.datasets import fetch_openml\n",
    "mnist = fetch_openml('mnist_784')"
   ]
  },
  {
   "cell_type": "markdown",
   "metadata": {},
   "source": [
    "**Q1**. Features and labels can be accessed with the keys `data` and `target` of MNIST dataset loaded previously.\n",
    "- Store the features in a `X` variable and the labels in a `y` variable\n",
    "- What is the signification of the features in this usecase? The labels?\n",
    "- What is the size of the images?\n",
    "- What can be the values "
   ]
  },
  {
   "cell_type": "code",
   "execution_count": 6,
   "metadata": {},
   "outputs": [
    {
     "name": "stdout",
     "output_type": "stream",
     "text": [
      "X.columns Index(['pixel1', 'pixel2', 'pixel3', 'pixel4', 'pixel5', 'pixel6', 'pixel7',\n",
      "       'pixel8', 'pixel9', 'pixel10',\n",
      "       ...\n",
      "       'pixel775', 'pixel776', 'pixel777', 'pixel778', 'pixel779', 'pixel780',\n",
      "       'pixel781', 'pixel782', 'pixel783', 'pixel784'],\n",
      "      dtype='object', length=784)\n",
      "y 0    5\n",
      "1    0\n",
      "2    4\n",
      "3    1\n",
      "4    9\n",
      "Name: class, dtype: category\n",
      "Categories (10, object): ['0', '1', '2', '3', ..., '6', '7', '8', '9']\n"
     ]
    },
    {
     "data": {
      "text/plain": [
       "28.0"
      ]
     },
     "execution_count": 6,
     "metadata": {},
     "output_type": "execute_result"
    }
   ],
   "source": [
    "# TODO: Data comprehension\n",
    "import math\n",
    "# Demander comment faire sans passer par un dataframe\n",
    "X = mnist['data']\n",
    "y = mnist['target']\n",
    "print(f'X.columns {X.columns}')\n",
    "print(f'y {y.head()}') \n",
    "# - What can be the values: des chiffres entre 0 et 9\n",
    "\n",
    "#df = pd.DataFrame(data = mnist.data, columns = mnist.feature_names)\n",
    "#df['target'] = mnist.target\n",
    "#print(f'colonnes: {df.columns}')\n",
    "\n",
    "math.sqrt(len(X.columns))\n",
    "# - What is the size of the images?: imagettes de 28x28 pixels\n"
   ]
  },
  {
   "cell_type": "markdown",
   "metadata": {},
   "source": [
    "TODO: Data comprehension"
   ]
  },
  {
   "cell_type": "markdown",
   "metadata": {},
   "source": [
    "**Q2**. Visualize one random image.\n",
    "\n",
    "> 🔦 **Hint**: As black pixel correspond to zero values while white pixels have values equal to 255, plotting the images with matplotlib will display background in black. You can set `cmap = \"gray_r\"` in order to inverse the colormap and paint the digit in black with white background."
   ]
  },
  {
   "cell_type": "code",
   "execution_count": 24,
   "metadata": {},
   "outputs": [
    {
     "name": "stdout",
     "output_type": "stream",
     "text": [
      "(70000, 784)\n",
      "<class 'pandas.core.frame.DataFrame'>\n",
      "   pixel1  pixel2  pixel3  pixel4  pixel5  pixel6  pixel7  pixel8  pixel9  \\\n",
      "0     0.0     0.0     0.0     0.0     0.0     0.0     0.0     0.0     0.0   \n",
      "1     0.0     0.0     0.0     0.0     0.0     0.0     0.0     0.0     0.0   \n",
      "2     0.0     0.0     0.0     0.0     0.0     0.0     0.0     0.0     0.0   \n",
      "3     0.0     0.0     0.0     0.0     0.0     0.0     0.0     0.0     0.0   \n",
      "4     0.0     0.0     0.0     0.0     0.0     0.0     0.0     0.0     0.0   \n",
      "\n",
      "   pixel10  ...  pixel775  pixel776  pixel777  pixel778  pixel779  pixel780  \\\n",
      "0      0.0  ...       0.0       0.0       0.0       0.0       0.0       0.0   \n",
      "1      0.0  ...       0.0       0.0       0.0       0.0       0.0       0.0   \n",
      "2      0.0  ...       0.0       0.0       0.0       0.0       0.0       0.0   \n",
      "3      0.0  ...       0.0       0.0       0.0       0.0       0.0       0.0   \n",
      "4      0.0  ...       0.0       0.0       0.0       0.0       0.0       0.0   \n",
      "\n",
      "   pixel781  pixel782  pixel783  pixel784  \n",
      "0       0.0       0.0       0.0       0.0  \n",
      "1       0.0       0.0       0.0       0.0  \n",
      "2       0.0       0.0       0.0       0.0  \n",
      "3       0.0       0.0       0.0       0.0  \n",
      "4       0.0       0.0       0.0       0.0  \n",
      "\n",
      "[5 rows x 784 columns]\n"
     ]
    },
    {
     "data": {
      "image/png": "[encoded data removed]",
      "text/plain": [
       "<Figure size 640x480 with 1 Axes>"
      ]
     },
     "metadata": {},
     "output_type": "display_data"
    }
   ],
   "source": [
    "# TODO: Data visualization\n",
    "# from stackoverflow\n",
    "from matplotlib import pyplot as plt\n",
    "import numpy as np\n",
    "\n",
    "print(X.shape)\n",
    "print(type(X))\n",
    "# !!! X est un df pas un np.array\n",
    "\n",
    "X = pd.DataFrame(X)\n",
    "print(X.head())\n",
    "#print(X.iloc[4])\n",
    "\n",
    "first_image = X.iloc[4]\n",
    "first_image = np.array(first_image, dtype='float')\n",
    "pixels = first_image.reshape((28, 28))\n",
    "plt.imshow(pixels, cmap='gray_r')\n",
    "plt.show()"
   ]
  },
  {
   "cell_type": "markdown",
   "metadata": {},
   "source": [
    "**Q2 Bonus**. Visualize several images in multiple rows/columns with label written as title"
   ]
  },
  {
   "cell_type": "code",
   "execution_count": 32,
   "metadata": {},
   "outputs": [
    {
     "name": "stdout",
     "output_type": "stream",
     "text": [
      "type(y) <class 'pandas.core.series.Series'>\n",
      "y.iloc[5] 2\n"
     ]
    },
    {
     "data": {
      "image/png": "[encoded data removed]",
      "text/plain": [
       "<Figure size 640x480 with 4 Axes>"
      ]
     },
     "metadata": {},
     "output_type": "display_data"
    }
   ],
   "source": [
    "# TODO: Data visualization\n",
    "print(f'type(y) {type(y)}')\n",
    "print(f'y.iloc[5] {y.iloc[5]}')\n",
    "\n",
    "def multiplots(X, y):\n",
    "    # voir pour générer les rows randomly\n",
    "    rows = [10, 100, 1000, 50000] \n",
    "    fig, axs = plt.subplots(2, 2)    \n",
    "    \n",
    "    for i in range(2):\n",
    "        for j in range(2):\n",
    "            row = 2 * i + j\n",
    "            imag = X.iloc[rows[row]]\n",
    "            imag = np.array(imag, dtype='float')\n",
    "            pixels = imag.reshape((28, 28))\n",
    "            axs[i, j].imshow(pixels, cmap='gray_r')\n",
    "            axs[i, j].set_title(y.iloc[rows[row]])\n",
    "    \n",
    "multiplots(X, y)"
   ]
  },
  {
   "cell_type": "markdown",
   "metadata": {},
   "source": [
    "**Q3**. Sample the dataset by keeping only 5000 randomly chosen images. For example using the function `random.randint` from Numpy"
   ]
  },
  {
   "cell_type": "code",
   "execution_count": 43,
   "metadata": {},
   "outputs": [
    {
     "name": "stdout",
     "output_type": "stream",
     "text": [
      "[10561, 63575, 34292, 4827, 60, 19082, 61638, 48911, 41863, 2870, 35744, 64074, 25967, 54265, 12349, 25295, 34803, 11549, 55667, 43986, 12208, 47467, 53733, 32832, 58355, 12292, 25843, 38167, 12787, 5988, 26329, 47236, 63794, 25392, 67457, 66020, 3726, 47367, 32099, 56321, 39889, 46843, 15675, 11756, 65557, 68848, 26100, 15313, 35113, 40932, 25720, 49783, 63406, 29195, 18102, 27511, 68439, 1642, 24740, 22170, 2236, 43636, 40125, 49104, 49468, 69124, 51009, 37900, 16625, 64063, 7055, 24295, 55429, 52136, 12581, 57836, 32154, 11673, 58473, 58615, 49810, 10024, 67724, 55892, 61726, 39776, 53617, 11264, 25185, 34842, 59161, 63920, 22562, 2431, 2867, 16187, 32918, 47324, 24584, 33596, 65895, 59184, 43181, 67748, 33393, 53815, 55279, 63623, 35120, 62222, 62724, 64491, 18637, 49477, 65097, 40066, 61245, 42388, 48035, 21369, 49289, 34840, 41958, 52204, 63963, 20734, 38115, 812, 58899, 7485, 23931, 3947, 14699, 48616, 47450, 65201, 8163, 25249, 20236, 35292, 1943, 55328, 68795, 64448, 9938, 61460, 30418, 13128, 48617, 47445, 19001, 31898, 41724, 18911, 4939, 12757, 13820, 5933, 62637, 60649, 9044, 4044, 16648, 10951, 21111, 34759, 59243, 65496, 2659, 17967, 24746, 57788, 62805, 57604, 58600, 36230, 62578, 8346, 38242, 47638, 37496, 47205, 4440, 10969, 65852, 36148, 36675, 35929, 62011, 56453, 58227, 48688, 4183, 11226, 32713, 31255, 4288, 22714, 44091, 48561, 4190, 6825, 27418, 56759, 45021, 10171, 20662, 14947, 52384, 17786, 60825, 64820, 9855, 16784, 9696, 45928, 68193, 3995, 24338, 68869, 19701, 24079, 36924, 19793, 66496, 50897, 29240, 29046, 16496, 54937, 21389, 41485, 31502, 625, 50684, 24661, 42633, 49950, 68983, 57796, 1269, 52103, 69572, 17861, 30631, 48789, 35639, 24268, 19584, 21513, 17608, 50424, 9736, 8005, 1607, 5227, 61893, 7764, 15020, 13127, 48185, 4219, 7849, 29464, 53326, 29567, 38470, 12153, 61742, 10132, 7709, 22101, 57402, 15737, 14710, 23305, 6556, 3983, 55749, 37622, 33514, 58114, 30402, 26496, 28044, 36415, 1719, 33416, 69081, 43382, 67819, 12279, 4292, 47455, 48122, 15352, 29656, 3672, 47234, 44644, 57099, 6784, 45090, 18272, 3985, 1289, 44066, 8925, 63562, 339, 60769, 34564, 11472, 35813, 30176, 17352, 16507, 54948, 23835, 31846, 50320, 56243, 67839, 62972, 35410, 33183, 17928, 39198, 4308, 25236, 58776, 13727, 23081, 14214, 340, 67315, 21033, 15718, 19922, 51529, 62089, 63729, 69573, 61663, 28232, 50903, 20231, 60042, 1398, 44272, 54735, 33007, 41860, 17411, 37459, 48627, 47564, 29269, 703, 39967, 23154, 10818, 53432, 30345, 11695, 25459, 49861, 53981, 16497, 19339, 68132, 6599, 68195, 63971, 47745, 43083, 51073, 35784, 8746, 34285, 17236, 5402, 14341, 20332, 66210, 66389, 14890, 11360, 11338, 16369, 28328, 46012, 44349, 20743, 32012, 22956, 24122, 16450, 62794, 60001, 14486, 17917, 59712, 25732, 48642, 18955, 43550, 34555, 8950, 35909, 201, 8011, 3916, 62871, 59736, 41694, 8033, 1480, 36000, 13289, 50341, 44034, 13361, 48910, 18608, 19308, 48547, 61475, 53009, 2535, 69693, 19774, 13616, 58428, 48957, 1633, 16714, 62929, 34773, 9225, 62682, 15869, 52326, 26026, 22275, 57399, 43370, 33462, 45339, 38574, 35823, 59370, 5996, 65602, 32725, 431, 69070, 64921, 33395, 22318, 4645, 42046, 1826, 27506, 39866, 24989, 20187, 36447, 7631, 35737, 39659, 49052, 28527, 22489, 359, 11811, 46831, 24240, 45850, 24023, 62588, 28937, 62348, 50374, 47075, 16106, 11490, 56353, 7137, 26712, 57553, 28689, 7393, 63236, 66025, 69099, 33075, 68301, 34818, 47330, 39415, 55849, 48620, 12384, 54290, 21293, 36390, 7999, 66073, 41716, 66549, 7528, 10242, 14654, 7965, 57489, 56434, 69942, 11874, 23144, 34495, 46091, 158, 8297, 34856, 40532, 45325, 50902, 52888, 10209, 15053, 37085, 64956, 58569, 33694, 40653, 31514, 1974, 6670, 67551, 49896, 20102, 28790, 38620, 14068, 34543, 17736, 15560, 4057, 52251, 33719, 64066, 27872, 9142, 36132, 23002, 17685, 20155, 12954, 3115, 28515, 42898, 55033, 62313, 63938, 59159, 42322, 59514, 25283, 23245, 69721, 14809, 28972, 18256, 51268, 29210, 46081, 61038, 36003, 29599, 3550, 53331, 31988, 51978, 15662, 4496, 41290, 47704, 65404, 33175, 57154, 49373, 39759, 47270, 68749, 48821, 7492, 53903, 23564, 39966, 37992, 61894, 31535, 13639, 60411, 21026, 48031, 56184, 61430, 42945, 9379, 59462, 56735, 63618, 1560, 14221, 8487, 63055, 56889, 7708, 3399, 67519, 69101, 46046, 47507, 21049, 23550, 62920, 69661, 9255, 53232, 15064, 3897, 45450, 30527, 33023, 68415, 34630, 50621, 47315, 386, 45096, 54805, 39305, 22939, 64737, 46227, 4951, 2057, 26818, 856, 5859, 3984, 62311, 13480, 54454, 63373, 42812, 61665, 26522, 26964, 49055, 18866, 14448, 27738, 6507, 29201, 35316, 54743, 28890, 46776, 62275, 48448, 19673, 48548, 36620, 24956, 7268, 65761, 26129, 26320, 52581, 69274, 6122, 55689, 3197, 10018, 10701, 15577, 25303, 66269, 12956, 67939, 63170, 43280, 24385, 57790, 27594, 1225, 28886, 42758, 28056, 38848, 19688, 931, 3819, 38307, 13777, 53085, 67101, 28182, 27224, 54135, 65300, 11665, 56807, 22379, 18090, 26136, 37067, 55219, 39411, 52516, 4290, 57458, 28181, 25734, 39010, 30519, 56519, 47593, 6241, 41277, 47530, 46859, 53237, 56540, 46948, 69399, 53559, 37491, 20128, 33773, 25908, 61163, 65712, 22722, 983, 19625, 8570, 29320, 33456, 60903, 1599, 27669, 39992, 7634, 5246, 64202, 50948, 16307, 45888, 42492, 17989, 38018, 456, 35411, 17033, 35271, 42072, 11312, 69395, 45938, 15721, 28, 31771, 40192, 27352, 27433, 9052, 56457, 46296, 41467, 26411, 53501, 50159, 7124, 7740, 24420, 30808, 68663, 32552, 38241, 22085, 33589, 23152, 46853, 46329, 37436, 29437, 20982, 9362, 16537, 59324, 7192, 15002, 10526, 5210, 46925, 48896, 58502, 53141, 36322, 67909, 31271, 54556, 55462, 42866, 58505, 49930, 32355, 6532, 12241, 55559, 66650, 51283, 14028, 67058, 58883, 43535, 22687, 13175, 9530, 12984, 24630, 26926, 65126, 31843, 725, 46908, 24455, 5874, 4574, 51472, 947, 37066, 57988, 15405, 26330, 63016, 20915, 504, 1961, 62182, 46185, 32140, 19047, 58010, 49611, 54294, 31053, 42953, 28404, 15128, 52450, 60843, 6307, 28342, 38779, 35719, 13944, 33677, 29670, 43087, 47946, 39981, 35989, 52592, 56645, 41335, 58751, 45656, 26219, 15350, 54383, 35301, 10751, 30552, 45809, 67011, 5444, 10219, 14942, 20608, 1939, 66284, 44734, 2305, 55412, 5686, 16512, 25285, 1618, 15288, 36052, 22408, 27652, 29149, 13719, 28347, 1419, 42466, 52211, 9339, 3192, 47581, 20683, 58870, 19349, 56924, 36413, 6839, 50306, 39354, 61501, 51, 39304, 38351, 19392, 163, 27901, 38977, 14381, 16867, 410, 48865, 46718, 14857, 26336, 45407, 53345, 42264, 14560, 25165, 33034, 15678, 60076, 56310, 15402, 43287, 47542, 31683, 1738, 54456, 34258, 16038, 22595, 2837, 4233, 1890, 1632, 41592, 9840, 57672, 7084, 20091, 35925, 36274, 38991, 32459, 28924, 32664, 43289, 69434, 35777, 20560, 6880, 11726, 31638, 61151, 15276, 68200, 51866, 63753, 50333, 43572, 17186, 68567, 9722, 19409, 36056, 32046, 5546, 28791, 41693, 3189, 49943, 45710, 44005, 59441, 27785, 14901, 41306, 21603, 18610, 25214, 20414, 10929, 23337, 63030, 32223, 53958, 65648, 1747, 58031, 59412, 4245, 15752, 43809, 1127, 41105, 61841, 61393, 32559, 8879, 54908, 52137, 2243, 61452, 18915, 2226, 60997, 7264, 184, 15536, 11982, 9190, 21832, 28273, 26438, 68568, 25513, 64679, 32717, 12019, 12298, 67000, 46988, 16080, 14253, 61647, 2836, 43551, 30744, 24274, 14425, 62574, 33639, 30021, 42761, 13106, 28026, 56586, 5376, 44192, 10713, 68496, 15958, 46049, 16318, 13402, 49533, 8199, 52608, 17182, 38329, 59100, 20800, 3397, 30579, 1440, 23405, 14612, 18159, 39906, 57177, 53256, 11009, 45544, 9837, 36720, 31577, 36077, 55777, 48720, 28383, 42422, 36079, 48668, 15523, 50365, 38871, 21278, 32904, 53581, 2727, 23003, 43300, 55041, 36976, 1776, 37612, 28194, 37070, 26313, 29488, 62889, 72, 4049, 55533, 24044, 58498, 31030, 55557, 47722, 63641, 48611, 26056, 27373, 3504, 14844, 19423, 66667, 60060, 27788, 18431, 64625, 48318, 36345, 30375, 61842, 20075, 31801, 11191, 25910, 5821, 38019, 53227, 40885, 26858, 23833, 39746, 12622, 65206, 35123, 28372, 64965, 29514, 6012, 67297, 30589, 11653, 6460, 55867, 55639, 36328, 33814, 29279, 65646, 27013, 13838, 60722, 58239, 61739, 67470, 59186, 5899, 56691, 46395, 25189, 37281, 26616, 63012, 21144, 37310, 39663, 40576, 66877, 22321, 60003, 32558, 33201, 6079, 43764, 58067, 44524, 48685, 17779, 30465, 36903, 64430, 15618, 11626, 9383, 8567, 50956, 46915, 63063, 11091, 20777, 36944, 6721, 31399, 1436, 54829, 7029, 982, 57903, 38144, 65784, 41479, 5849, 69019, 36807, 51449, 1853, 24106, 29715, 36196, 2799, 1008, 60730, 25250, 24332, 59711, 17049, 34248, 22425, 1149, 62978, 65478, 19631, 3301, 28741, 30501, 15415, 55025, 20923, 14991, 5685, 25207, 51388, 20132, 24396, 64224, 13754, 7650, 36826, 11296, 65746, 26504, 67616, 30374, 34468, 19293, 14348, 39347, 65413, 30333, 25267, 16161, 40256, 44919, 51687, 64558, 23949, 49946, 56438, 32684, 57322, 2447, 55628, 2660, 59565, 8004, 48399, 5919, 17471, 67695, 62371, 58855, 63294, 44123, 59067, 22243, 13896, 9656, 61388, 60054, 43098, 46803, 30787, 55512, 65936, 62640, 55071, 24896, 33171, 19067, 44338, 50272, 61497, 15195, 28225, 7949, 17522, 62103, 28550, 20255, 49804, 1494, 39641, 34857, 222, 49547, 19077, 39786, 45873, 45883, 9263, 39527, 27008, 63501, 18834, 28170, 54048, 27296, 24636, 7107, 3234, 2224, 59353, 25098, 40063, 60914, 33709, 491, 45983, 8951, 21948, 8269, 58979, 61149, 7753, 28672, 20677, 50800, 2313, 67045, 52213, 29739, 11934, 56686, 21827, 12960, 40684, 11446, 44359, 57613, 27562, 23583, 23070, 14532, 69444, 25547, 12879, 22020, 58893, 1659, 14914, 67771, 6510, 26830, 54186, 9450, 60996, 40963, 18979, 48469, 46102, 21859, 60134, 66634, 17893, 48915, 9821, 44703, 39660, 41990, 38645, 11677, 55558, 12624, 63517, 47352, 57400, 29981, 50596, 31597, 15701, 26399, 56594, 22592, 22519, 51115, 28110, 3747, 55564, 4975, 12004, 7747, 58555, 41984, 9120, 14512, 17617, 5169, 67217, 13325, 38925, 385, 266, 69569, 25422, 43201, 22368, 11918, 445, 21452, 65524, 43966, 6551, 35305, 32408, 30023, 464, 59593, 53114, 59882, 69833, 30790, 10033, 45453, 3755, 15912, 35450, 57501, 26231, 37758, 66356, 47061, 53171, 46050, 44715, 3613, 24331, 31772, 36564, 30943, 69358, 14968, 54404, 64212, 34877, 66013, 25705, 46627, 9191, 3410, 33060, 33681, 29426, 64197, 40958, 64631, 20463, 8334, 18088, 2724, 44197, 67109, 20771, 66131, 62710, 59834, 21232, 18989, 54426, 61120, 31834, 67462, 25728, 52206, 66977, 44487, 1562, 66325, 167, 58273, 42762, 67038, 39097, 12750, 32722, 64757, 54034, 10099, 46071, 38153, 42301, 20369, 10550, 44395, 15741, 6205, 48355, 5077, 46534, 49490, 26995, 60125, 510, 69403, 53968, 32157, 69676, 35645, 5677, 12507, 50748, 22355, 47219, 17847, 27286, 43040, 1703, 29775, 12372, 43194, 50836, 52287, 1467, 24875, 54704, 13149, 21104, 15883, 5648, 55044, 53598, 53300, 10334, 50145, 20496, 27000, 51281, 11964, 43847, 25620, 44152, 7456, 35592, 67002, 46874, 53794, 17528, 58030, 55987, 37709, 25848, 58065, 60390, 9299, 43567, 35485, 22399, 25455, 61804, 40272, 65659, 43553, 53792, 9529, 57309, 61256, 65017, 64231, 19332, 61847, 33413, 5355, 14187, 39584, 36709, 59947, 39805, 13006, 38498, 40488, 6651, 47351, 13760, 14268, 12183, 40313, 31001, 49672, 58116, 64500, 11971, 45365, 45026, 29998, 48353, 20762, 43940, 1740, 48112, 43153, 42722, 47968, 58343, 56612, 16495, 7100, 32921, 21855, 23232, 68613, 15858, 27271, 68964, 11762, 30804, 55479, 39336, 42624, 8080, 34838, 26152, 20519, 43596, 9170, 68717, 618, 24317, 28054, 65382, 24809, 11322, 40287, 32650, 28440, 61825, 50105, 33459, 17994, 35830, 23359, 49504, 64410, 50164, 12696, 29064, 22571, 19924, 7385, 40542, 44662, 937, 10548, 57997, 46078, 39901, 61736, 36971, 66231, 30103, 8970, 20498, 22521, 32383, 33045, 23980, 5150, 16609, 46933, 33649, 57137, 40750, 20204, 7981, 1868, 29060, 57844, 7254, 62945, 15088, 31254, 2346, 29801, 19517, 24953, 17309, 5366, 34492, 24032, 21629, 5662, 63503, 18497, 31613, 58208, 63460, 65739, 18977, 33849, 67786, 45774, 28885, 53631, 18694, 52553, 14204, 43456, 12656, 28061, 10834, 32052, 38927, 62353, 18826, 41074, 15749, 17825, 43629, 42390, 20043, 23294, 55276, 60728, 22369, 39985, 6506, 63627, 13384, 15798, 64696, 14079, 42963, 31703, 2372, 3218, 24865, 34483, 34528, 16977, 53350, 48625, 64999, 66045, 36915, 17573, 27729, 61028, 51466, 7274, 11386, 1372, 29131, 24929, 36636, 55860, 11319, 4804, 43681, 5568, 41267, 15748, 36653, 16673, 45385, 39051, 31093, 57159, 39955, 6971, 2803, 37740, 68005, 45174, 53934, 58134, 51218, 49865, 55717, 68547, 47690, 12415, 63456, 5312, 15579, 21514, 30339, 14868, 6368, 29572, 38312, 42003, 24883, 25163, 4612, 33592, 1217, 16751, 38799, 45047, 28959, 30515, 3804, 66228, 54217, 67339, 1754, 17256, 12603, 5068, 7515, 36465, 55048, 23901, 7530, 64446, 28645, 58224, 5806, 14851, 14310, 49642, 48253, 35674, 39700, 15378, 41528, 48019, 31975, 45747, 9539, 36923, 12681, 337, 42269, 17054, 17102, 29844, 33975, 6649, 33079, 41940, 36195, 60973, 39553, 55384, 43076, 53716, 49386, 10685, 52590, 25659, 14927, 25752, 11740, 40136, 59029, 34155, 35571, 11640, 4344, 19921, 24581, 14972, 29134, 30817, 42163, 40361, 126, 53397, 32065, 17591, 47845, 63041, 59789, 469, 7075, 2833, 12717, 10372, 23387, 69863, 37715, 29476, 14733, 32661, 54360, 32910, 18976, 51455, 13916, 23479, 55864, 45612, 53821, 49316, 50671, 39774, 31940, 18706, 922, 38243, 13521, 26211, 28187, 48456, 20059, 42586, 63498, 60661, 69364, 32040, 46815, 23624, 51963, 10724, 51936, 25524, 22264, 26635, 64426, 17124, 56964, 59737, 27643, 9080, 61301, 24951, 43443, 17366, 33980, 31945, 2859, 60935, 49602, 525, 50096, 25682, 5674, 41421, 41392, 23937, 28133, 11624, 22667, 2190, 15409, 26355, 60652, 68349, 41956, 58540, 57795, 52858, 6397, 11399, 9002, 63603, 30590, 34063, 51414, 52295, 36839, 44661, 40345, 66371, 48966, 11058, 33786, 12867, 17728, 3675, 54548, 17932, 14800, 9775, 67872, 7758, 57739, 53306, 65861, 14956, 69051, 14767, 54560, 18244, 40085, 52763, 66439, 26939, 55685, 52743, 52413, 51938, 5803, 2899, 60795, 69108, 46557, 63040, 46047, 47857, 56344, 7591, 15491, 289, 27966, 53931, 47855, 27429, 37158, 11215, 35167, 13799, 37855, 58621, 15201, 66245, 1674, 49205, 25853, 14736, 58005, 32244, 32446, 43787, 29403, 57547, 67400, 60637, 11785, 34643, 54746, 24589, 50068, 9839, 5482, 32635, 46736, 39890, 38096, 32145, 40274, 65403, 58152, 20020, 30802, 16435, 17495, 97, 44619, 12157, 6767, 42209, 22089, 29953, 14440, 27651, 21301, 21837, 29472, 37298, 13194, 19168, 42693, 30638, 27001, 34711, 17805, 69352, 307, 38121, 63443, 8072, 17298, 55997, 38221, 43577, 61129, 51034, 47034, 68054, 34933, 58699, 13108, 2099, 48687, 57220, 54224, 52366, 24931, 4070, 28058, 60195, 4041, 25299, 13946, 64002, 5315, 26922, 61212, 48751, 60246, 5009, 63246, 29265, 55586, 31788, 14657, 4114, 14912, 9411, 61903, 47877, 58945, 12585, 67043, 50506, 4398, 34794, 23975, 34971, 57186, 36661, 48544, 34282, 12673, 59860, 14629, 10655, 1201, 27751, 11217, 53164, 57506, 62756, 23164, 69766, 41468, 50702, 21701, 10346, 59645, 11953, 36914, 16232, 50215, 54610, 16008, 67550, 5436, 43865, 14757, 20200, 56076, 43950, 47444, 23942, 66343, 46834, 46538, 2983, 19990, 26025, 18663, 2991, 9107, 65911, 39476, 58735, 60586, 17301, 67290, 56846, 68434, 69086, 61982, 33259, 23879, 60507, 51642, 60330, 35212, 62265, 49532, 23932, 46536, 47625, 58634, 53605, 55597, 31378, 35356, 31781, 65545, 19207, 55028, 56651, 34825, 62230, 32829, 42862, 48272, 48339, 47379, 69385, 14450, 14442, 32394, 67951, 8854, 49522, 46600, 53946, 56897, 51898, 13597, 8811, 40957, 57804, 32031, 6086, 34965, 28262, 41294, 15533, 20799, 56405, 7958, 41398, 38474, 38913, 13414, 731, 44633, 14611, 29646, 50255, 39608, 58657, 32719, 64697, 711, 25572, 64018, 49626, 3008, 9166, 57932, 8726, 37967, 17712, 6027, 69263, 10248, 20341, 35680, 34256, 48133, 1104, 24298, 45553, 19330, 63127, 12550, 38294, 33619, 69510, 49003, 48348, 7584, 60851, 65806, 7698, 51960, 43108, 16027, 25777, 21542, 42902, 60385, 67479, 10674, 11988, 58053, 46077, 29730, 40625, 62112, 9513, 52215, 26549, 24316, 10366, 48302, 9193, 20950, 54604, 17770, 36041, 35117, 17767, 5504, 34107, 46568, 53197, 51988, 7435, 62721, 39213, 65977, 58875, 10875, 25631, 30505, 30200, 55209, 42521, 24787, 20088, 48513, 8214, 57691, 69644, 62792, 61832, 56637, 53922, 50485, 60910, 18280, 55029, 64987, 51870, 17871, 23526, 4403, 62925, 44510, 13707, 62053, 3649, 12307, 48370, 4436, 14634, 17432, 26592, 637, 29593, 9723, 15340, 63951, 18148, 10251, 1113, 64994, 24430, 5203, 68161, 5824, 9186, 18085, 22104, 64555, 5035, 54125, 66302, 61213, 68337, 1528, 27278, 31213, 9877, 65462, 56703, 3240, 16920, 54108, 26304, 4884, 19091, 34765, 5700, 42574, 53978, 15984, 15458, 39391, 64778, 45567, 14467, 18346, 3148, 4830, 6266, 37242, 27459, 31865, 6401, 38326, 18885, 50774, 3331, 32912, 3445, 58522, 52625, 47391, 58367, 12800, 9477, 3298, 5798, 66989, 27495, 51082, 38457, 58695, 65663, 64400, 36950, 64422, 69078, 15667, 56090, 36899, 11285, 32185, 48563, 46064, 41152, 13059, 32505, 46144, 7742, 42312, 12088, 43519, 66567, 37192, 4543, 38737, 3027, 63367, 5114, 25530, 7606, 67370, 14449, 46999, 47494, 53674, 24198, 22738, 3946, 66404, 60862, 11865, 41093, 12341, 68250, 65460, 20867, 57677, 50088, 7413, 31083, 37811, 32162, 57617, 48745, 65597, 19286, 13975, 13077, 53935, 10129, 22591, 64646, 64669, 44563, 12450, 27359, 64652, 64726, 56480, 63165, 29869, 38024, 17187, 2605, 6579, 57666, 66351, 36490, 11100, 24242, 2735, 21793, 16169, 52012, 41310, 60174, 31412, 47361, 6988, 50169, 27528, 26443, 22300, 23137, 8358, 9962, 28219, 34882, 14709, 40135, 36512, 48043, 10974, 2425, 11708, 40799, 51899, 194, 3541, 60117, 7089, 27742, 42062, 15643, 37732, 15310, 21008, 55660, 10587, 58592, 48263, 57132, 39586, 15111, 28883, 27212, 49247, 40047, 69601, 18202, 5955, 63563, 39057, 29760, 18696, 53694, 43916, 39968, 31131, 52646, 2331, 12184, 1840, 19834, 19853, 49638, 40062, 36716, 21139, 65254, 15265, 58487, 42989, 53387, 59901, 40858, 45461, 14059, 59457, 24695, 19985, 6793, 27049, 3417, 11412, 46694, 14157, 48908, 38499, 69214, 64933, 64364, 66128, 26201, 50583, 68641, 59219, 49039, 17181, 52429, 37193, 44566, 12760, 43973, 6124, 57981, 38761, 31933, 31869, 5072, 12346, 57002, 8242, 51138, 41057, 37257, 48101, 35884, 63888, 57179, 38816, 5107, 4671, 16377, 39650, 67107, 16058, 6540, 9663, 1205, 6645, 57775, 58670, 53184, 27911, 6464, 63530, 67977, 12213, 35373, 11596, 28654, 61020, 67600, 66002, 68727, 34096, 30024, 31531, 15308, 62116, 50199, 3096, 48255, 1672, 31525, 48660, 17443, 2088, 57206, 57916, 52955, 23927, 1785, 34942, 40987, 36001, 33358, 56352, 19716, 50510, 25429, 45113, 13972, 69796, 39769, 6346, 9761, 36068, 41465, 57033, 25386, 6990, 2726, 11293, 43808, 68399, 34533, 5132, 15408, 30466, 44711, 52491, 28962, 17097, 24575, 49232, 45766, 857, 53920, 36981, 46928, 46565, 58931, 59891, 65250, 61815, 66066, 66308, 55993, 49189, 56023, 5483, 61930, 57205, 46070, 38893, 9801, 68203, 561, 41103, 67529, 35964, 25869, 24186, 33717, 35836, 38808, 8716, 62782, 58594, 66094, 25209, 49255, 36935, 60847, 53661, 69744, 30988, 41602, 42899, 3285, 28552, 27809, 46796, 51559, 42939, 483, 62997, 46181, 5911, 15143, 22076, 6680, 67761, 39487, 63736, 67302, 1119, 1688, 3052, 33050, 3344, 49659, 45038, 13986, 42993, 19686, 45233, 4641, 59396, 55842, 12480, 5119, 15734, 31551, 37351, 45243, 54337, 13, 19714, 16898, 53417, 42362, 40759, 23862, 63459, 9430, 60712, 40649, 31097, 14730, 48883, 29556, 40881, 11357, 13012, 16349, 54113, 58484, 40168, 31407, 66608, 3009, 58041, 4380, 9795, 25838, 26711, 20079, 15390, 41276, 65816, 13770, 63268, 51056, 19080, 20350, 8868, 2527, 3068, 26359, 26597, 9844, 52150, 59125, 27841, 28316, 27262, 66943, 15758, 22798, 8930, 27863, 47785, 50077, 28657, 28131, 51567, 41356, 65346, 55408, 16990, 1058, 58941, 36133, 40456, 3948, 69173, 55182, 49539, 54050, 52865, 3591, 51094, 6246, 13022, 61746, 6458, 47514, 28159, 1423, 60816, 45140, 17439, 46535, 18012, 9872, 15703, 15636, 22907, 53644, 8615, 41338, 62726, 31634, 58118, 25529, 30620, 10028, 60708, 17535, 31883, 68173, 11144, 28464, 62843, 33662, 54912, 39311, 13073, 35585, 18688, 64129, 45941, 61078, 25698, 69191, 43938, 4471, 44948, 49917, 52768, 40380, 38515, 31216, 3575, 24995, 33068, 32861, 62319, 20086, 37872, 67236, 2764, 35442, 1661, 19749, 13746, 35747, 47612, 59379, 45980, 3737, 29494, 3651, 17577, 16309, 28573, 1312, 18276, 41870, 56431, 46546, 3090, 44648, 59287, 61561, 50423, 2285, 21918, 64062, 9650, 30671, 34917, 36109, 588, 2654, 25253, 29544, 20845, 6698, 69830, 5029, 9314, 61651, 22675, 67129, 44392, 21358, 36169, 22169, 27922, 58488, 20111, 26790, 61394, 11893, 17368, 19527, 11480, 1352, 17008, 56843, 62443, 40079, 10118, 47231, 29145, 11958, 29919, 3699, 61442, 22041, 4811, 59178, 16760, 55527, 36365, 18844, 29057, 64327, 50322, 7572, 61719, 55575, 18815, 58640, 25746, 61973, 10036, 37701, 57023, 34843, 44099, 36848, 3156, 63056, 53915, 67658, 59666, 63039, 24937, 7976, 64376, 43440, 31751, 23908, 13800, 24747, 1103, 8877, 46089, 16527, 8290, 36290, 12351, 37961, 47383, 24060, 9154, 27381, 32937, 48285, 31811, 100, 30847, 44433, 8137, 44582, 33299, 56900, 11980, 12236, 14349, 53037, 57289, 30901, 19594, 14561, 1160, 56190, 35247, 1931, 31919, 4275, 35513, 28298, 66612, 48701, 25970, 8170, 12224, 67602, 12672, 18304, 28025, 17413, 16968, 4030, 61045, 23375, 59797, 11641, 50288, 56325, 58325, 67250, 43910, 54744, 3833, 37919, 22911, 48069, 69437, 2366, 15386, 50514, 20693, 42950, 45508, 37773, 53880, 36458, 36584, 44333, 60244, 64150, 30357, 59413, 10601, 62379, 59105, 2164, 16922, 45815, 27973, 5971, 19056, 31223, 57744, 12141, 2083, 68386, 23161, 40261, 52371, 47983, 66275, 20776, 14383, 46893, 43790, 65186, 5832, 47064, 23118, 21263, 8153, 20528, 1663, 28345, 68348, 62669, 13753, 871, 15598, 13232, 50002, 29078, 38895, 4047, 59149, 63448, 36856, 6477, 31481, 16482, 37252, 32437, 37210, 64320, 46233, 5578, 15657, 69485, 62217, 46579, 49391, 7253, 26531, 68043, 41473, 23059, 2014, 21954, 65516, 53964, 18762, 20919, 125, 21521, 9672, 51685, 63189, 40089, 64891, 61814, 1302, 33182, 33978, 17921, 3129, 17996, 54828, 3153, 10567, 18817, 6155, 52501, 11578, 20931, 930, 45679, 68888, 52769, 32699, 45903, 68714, 45726, 20682, 8865, 58601, 4270, 69728, 46690, 10436, 41957, 49985, 6986, 43622, 11420, 41424, 10422, 37687, 27845, 15284, 39643, 8090, 7125, 69678, 36812, 38509, 11212, 59966, 12846, 50130, 18701, 67075, 25004, 33586, 52624, 18144, 51904, 58792, 52189, 59378, 13324, 38534, 68890, 41269, 25124, 21266, 65178, 29069, 30109, 39382, 67399, 32393, 36860, 62055, 32672, 9817, 20674, 265, 24212, 66829, 5675, 16110, 57983, 33145, 56705, 3194, 49876, 26145, 28480, 35811, 24234, 32421, 49726, 15406, 1394, 18409, 33195, 28259, 24689, 18734, 30948, 4534, 41777, 8774, 59375, 67611, 68662, 35090, 13550, 39009, 41036, 34172, 37517, 3570, 64481, 43695, 27208, 8632, 25191, 49237, 33346, 57420, 49096, 46680, 29911, 62691, 11250, 2666, 24414, 53686, 19500, 19780, 25443, 46488, 54854, 55778, 35310, 20381, 40701, 60444, 17558, 55180, 28734, 5178, 48390, 4428, 1449, 58266, 34499, 19326, 49717, 34480, 57884, 33341, 18857, 61333, 14622, 60942, 64682, 60019, 20627, 4686, 19017, 48454, 36561, 46348, 46058, 41376, 1973, 64093, 12674, 21125, 15923, 66837, 41648, 3113, 20785, 26715, 51682, 49059, 60131, 36645, 3472, 24116, 25483, 29491, 66090, 59859, 25585, 61619, 31177, 20962, 27244, 13649, 32224, 3915, 23868, 53572, 55593, 67410, 13953, 47849, 44466, 11496, 60139, 65740, 28983, 286, 29001, 35435, 64781, 48912, 59083, 35656, 45346, 60017, 37602, 68152, 3700, 43720, 55596, 21434, 8971, 16614, 38337, 45061, 36103, 2916, 1652, 16197, 25195, 9404, 62715, 68153, 61919, 40555, 41380, 14116, 3748, 44874, 29569, 347, 40857, 472, 5258, 55004, 9627, 44813, 24117, 42787, 30360, 29744, 65529, 64247, 40338, 30123, 38331, 26364, 42551, 15154, 3028, 50563, 23313, 53280, 48136, 33450, 60966, 48844, 58413, 65180, 18718, 11873, 18975, 4027, 33243, 42815, 39160, 42918, 41439, 43805, 47822, 35460, 12877, 55781, 15607, 63588, 47799, 69698, 61987, 32794, 24340, 63676, 56499, 67808, 47164, 53725, 32646, 63747, 12592, 34312, 52653, 438, 15368, 27028, 14359, 27846, 68828, 26258, 31408, 12308, 53682, 34939, 23509, 61892, 28041, 27276, 17481, 44831, 29031, 64385, 30822, 39767, 21531, 45786, 17684, 40762, 35833, 59729, 52901, 22909, 12973, 29351, 11030, 11481, 50206, 9381, 59561, 53383, 54800, 13714, 10537, 3254, 25200, 51348, 57674, 13993, 18585, 14326, 43187, 51311, 35136, 2651, 58444, 13876, 1207, 65185, 50472, 13859, 32473, 27348, 27222, 59540, 3680, 58366, 37508, 285, 37648, 37563, 39426, 5309, 61935, 40498, 61504, 21367, 24263, 22880, 2076, 64925, 23792, 24812, 34537, 60024, 64883, 7156, 33859, 16957, 63750, 54044, 38605, 1023, 69412, 5223, 139, 32566, 43937, 19606, 44303, 48791, 51271, 52998, 35142, 26957, 54755, 57516, 56970, 41850, 36737, 31468, 8277, 1087, 10123, 2973, 67709, 69932, 10124, 69421, 69233, 51263, 55847, 41186, 18738, 19189, 50719, 60178, 7641, 5066, 6819, 48286, 60981, 28394, 22712, 44990, 48493, 5725, 64136, 9018, 42446, 67242, 25748, 18266, 66442, 51418, 65501, 52868, 46844, 16901, 39731, 61783, 16099, 30694, 43528, 9579, 49974, 48249, 48183, 13158, 3044, 27424, 16264, 19107, 51415, 69394, 7412, 36890, 48618, 62172, 38730, 40093, 40999, 35147, 22166, 31242, 45287, 62743, 2863, 64418, 59144, 69732, 63590, 54116, 35191, 41838, 64802, 12676, 68255, 26567, 41119, 48366, 39074, 52453, 13494, 50942, 18717, 49852, 69832, 27792, 23151, 24528, 24843, 2548, 8523, 30595, 3224, 63212, 60341, 46817, 39589, 16393, 1241, 58447, 51484, 21747, 20545, 27331, 23483, 45203, 12778, 68428, 29943, 11589, 25973, 63151, 55123, 10535, 17244, 45123, 44637, 8159, 1720, 27775, 39856, 19651, 7244, 49780, 27818, 2168, 61272, 12989, 56057, 57211, 41408, 5731, 44962, 41368, 19058, 39204, 44121, 55075, 39271, 1060, 26826, 31601, 16543, 51862, 10350, 60183, 65576, 36681, 31158, 16257, 970, 48144, 20459, 59093, 41591, 1739, 43398, 49897, 69234, 3972, 43615, 25449, 10527, 43424, 56583, 50901, 50958, 8495, 251, 14913, 22413, 9291, 41675, 29397, 23878, 58843, 23665, 30698, 55548, 2163, 11308, 57568, 26354, 31732, 10623, 50270, 8785, 35638, 39870, 35522, 205, 16229, 34029, 26733, 24336, 62296, 63560, 38130, 19439, 37652, 61535, 40609, 55499, 63234, 13625, 29543, 20574, 4881, 4553, 19560, 7388, 6276, 12966, 16970, 61550, 57193, 5581, 40123, 31387, 48724, 54680, 17243, 16783, 39537, 58865, 33119, 43900, 18006, 52574, 57261, 65117, 40549, 16184, 28171, 21715, 18602, 53709, 22499, 25177, 27604, 19253, 53813, 36215, 36343, 39202, 34335, 61722, 14099, 13229, 13833, 37546, 50304, 5865, 8463, 4632, 65970, 22890, 67728, 25174, 11599, 31171, 12365, 4606, 44855, 50219, 11047, 31382, 21459, 477, 19956, 68515, 27401, 19196, 55829, 63811, 9917, 9065, 58920, 16384, 55697, 9607, 69777, 22704, 38305, 67426, 59140, 50723, 17278, 33030, 22358, 10919, 22588, 34481, 44977, 63531, 37460, 1138, 42256, 13584, 61403, 1082, 50375, 15907, 9711, 1181, 46671, 13389, 11203, 18416, 29440, 66878, 2074, 23575, 50770, 32863, 2082, 40681, 10339, 4497, 12317, 27011, 7919, 52826, 34402, 3381, 52866, 2977, 5517, 56464, 33781, 28906, 10995, 57756, 8306, 20630, 43034, 54884, 5354, 15470, 46896, 8142, 5403, 52227, 28017, 66698, 19892, 44476, 35609, 58179, 63582, 13608, 11486, 13854, 14152, 11471, 66894, 32101, 59398, 12680, 67434, 33651, 47500, 48868, 35432, 44010, 40128, 26022, 10768, 66470, 53480, 3436, 13288, 18564, 38095, 52329, 19570, 51068, 48113, 61109, 62054, 19324, 68356, 38975, 37230, 68145, 36908, 4924, 20150, 33330, 49515, 60850, 62240, 10997, 46592, 39137, 31598, 38978, 40172, 61255, 9474, 8707, 60494, 39468, 28919, 864, 10249, 55106, 66827, 44490, 55405, 25231, 23808, 12007, 51445, 8681, 5310, 13552, 36601, 48831, 57917, 4546, 40640, 3277, 19611, 19127, 12166, 23661, 49328, 15, 45413, 7360, 8556, 5093, 65312, 19910, 20320, 26779, 38368, 45551, 46165, 29362, 55298, 36386, 7017, 28582, 40846, 59491, 26386, 60032, 42750, 22861, 7547, 51676, 14516, 50924, 6471, 61672, 48804, 32351, 24292, 12668, 40441, 206, 31692, 53118, 3903, 10082, 38253, 6014, 68762, 50813, 28149, 23306, 28502, 4737, 5208, 66807, 38025, 8126, 64173, 46293, 1402, 23779, 31024, 67739, 41723, 26682, 20883, 49036, 24359, 63038, 53616, 6234, 66198, 6173, 68738, 42679, 23706, 40553, 54262, 50710, 67925, 41120, 40003, 65038, 13011, 46249, 21087, 2951, 8855, 42663, 2779, 67159, 57761, 39835, 33199, 2621, 63646, 37714, 63751, 53459, 45430, 22426, 43032, 51390, 35900, 12457, 62624, 5613, 60681, 46435, 33637, 375, 47135, 59437, 59974, 34382, 6084, 13309, 68771, 22342, 69992, 25399, 16626, 40006, 17692, 69362, 13401, 38694, 43907, 52603, 18127, 31139, 20877, 24499, 20718, 42356, 11494, 40723, 14480, 39115, 65766, 16671, 11944, 54211, 31845, 23647, 25051, 12473, 48009, 55725, 64916, 64914, 68222, 669, 3059, 8511, 48584, 52079, 59556, 29728, 59802, 55381, 69883, 65290, 26151, 13176, 62811, 38316, 9987, 17550, 50943, 2102, 6605, 11996, 32, 28702, 24827, 49486, 47053, 55484, 40851, 45565, 32331, 42321, 20275, 39742, 69894, 68156, 19249, 44117, 13103, 35852, 15156, 21249, 29136, 21472, 61380, 6061, 6189, 27516, 59698, 48906, 4970, 56206, 67515, 43484, 55487, 18814, 61303, 35309, 11710, 57856, 62982, 54962, 21940, 51194, 2485, 30016, 44959, 17009, 24954, 62061, 65164, 47124, 66001, 68701, 4647, 9494, 44928, 26198, 64816, 52532, 30884, 61429, 6730, 5382, 54345, 55432, 4225, 26246, 19528, 46323, 23527, 19717, 28571, 62649, 27736, 15561, 3877, 66611, 63982, 47452, 6287, 53870, 22837, 4557, 42594, 38339, 28653, 48012, 2507, 64677, 65172, 17838, 45347, 25617, 4058, 55264, 1774, 51189, 52050, 41725, 64594, 64398, 42423, 57704, 51939, 66692, 39134, 5211, 38866, 31004, 23724, 25176, 66376, 7163, 43245, 8636, 54600, 3063, 37406, 7922, 22872, 1462, 11755, 20863, 6606, 9234, 48291, 4909, 48289, 19358, 46824, 32170, 1219, 18294, 25276, 61752, 22900, 9891, 19418, 4591, 30230, 65062, 54286, 23954, 37538, 18262, 3905, 57344, 48675, 2810, 24175, 57889, 15558, 19683, 42803, 55078, 17101, 11545, 52361, 1972, 30923, 26121, 60375, 32426, 5383, 56222, 67006, 55138, 3814, 40644, 35992, 1384, 13908, 6161, 1441, 9185, 58580, 50551, 11580, 1531, 13214, 12735, 54966, 43061, 66126, 65028, 25391, 16028, 27104, 25137, 22387, 20581, 6434, 16895, 45149, 24323, 61190, 58269, 50479, 1121, 63738, 48814, 44773, 42246, 52991, 52210, 42457, 5892, 26281, 57641, 19118, 49115, 18408, 32709, 16548, 48679, 4765, 39181, 19762, 20319, 35223, 60571, 58274, 3949, 45643, 11742, 22921, 33572, 29158, 67012, 32405, 58247, 33381, 55002, 26365, 23014, 11592, 35715, 65785, 42971, 9210, 8954, 36049, 35492, 50964, 51965, 4305, 62822, 4274, 32996, 40766, 26048, 56926, 22204, 33896, 57987, 54807, 30678, 44683, 6524, 11660, 44130, 42628, 13075, 58989, 19788, 58926, 465, 948, 54357, 46726, 7593, 54312, 56770, 27453, 9532, 63080, 49376, 53129, 59642, 24941, 53225, 17895, 32413, 21323, 17651, 68493, 32266, 61794, 51488, 16680, 21286, 13631, 67833, 9093, 1455, 27395, 50217, 35917, 46822, 35740, 37523, 9030, 38269, 39224, 46409, 61420, 51891, 34954, 10169, 65600, 31153, 29023, 13498, 63755, 2414, 59953, 1506, 26714, 25374, 62387, 62612, 22298, 28829, 35760, 49669, 5583, 23456, 20005, 65309, 3677, 2919, 12638, 271, 38453, 46957, 37499, 40426, 15535, 33943, 44463, 16645, 58850, 45089, 53378, 4442, 67415, 53341, 21709, 30420, 35170, 47375, 19317, 58494, 53057, 47168, 54793, 53088, 47997, 21691, 54632, 63289, 42696, 46439, 4248, 12209, 58966, 24210, 7736, 26437, 52270, 17840, 34749, 52011, 40528, 3434, 36750, 23023, 38537, 31670, 66259, 69112, 56409, 52467, 68595, 22398, 34208, 67423, 13278, 29664, 17920, 18458, 30613, 53148, 3297, 10791, 54945, 62438, 21438, 68745, 16051, 27041, 41664, 47844, 34507, 32875, 47257, 3599, 39598, 43662, 24916, 63617, 27827, 55461, 18488, 40527, 23054, 17735, 55742, 51200, 63579, 40399, 54987, 18018, 2405, 3989, 8037, 46301, 65381, 61838, 22811, 7652, 67055, 53823, 66432, 16954, 6658, 44393, 7892, 21580, 49323, 15964, 36516, 66502, 66862, 18094, 40778, 29042, 24627, 39290, 51212, 2123, 44606, 63429, 11774, 56618, 68342, 27444, 5714, 42426, 38380, 1061, 53675, 46324, 43143, 49209, 52601, 8017, 44071, 34167, 69271, 32116, 720, 1886, 69475, 9189, 28782, 44375, 14712, 13968, 2630, 6010, 50489, 54503, 20720, 53778, 51465, 22624, 18042, 18390, 11939, 36380, 28350, 48349, 58003, 41026, 27517, 27868, 13624, 1862, 40394, 4519, 12505, 33565, 49419, 7534, 28938, 45802, 46625, 52679, 68002, 49382, 5886, 14077, 18404, 66974, 17135, 53498, 8770, 42927, 38836, 57025, 68168, 62403, 39765, 55086, 136, 44082, 9619, 45863, 50872, 22309, 45529, 30757, 6232, 31210, 48622, 34427, 33585, 51944, 37560, 33872, 42706, 55485, 39082, 30484, 31488, 45812, 11466, 69616, 25313, 29277, 44882, 921, 63945, 29095, 30302, 31615, 16055, 21559, 22565, 44774, 61008, 57675, 16908, 63424, 30979, 65493, 62736, 34658, 26055, 55136, 50095, 68549, 41775, 46993, 3588, 18143, 49827, 20554, 29422, 42148, 41579, 9927, 62404, 7130, 37346, 49452, 2914, 39479, 53422, 46176, 25261, 38057, 10588, 38227, 37971, 65771, 40107, 15037, 42666, 40600, 37169, 69683, 18125, 7088, 53207, 54596, 61121, 33355, 54787, 1020, 24539, 46892, 64797, 37933, 23544, 35530, 27329, 57586, 29202, 34961, 37798, 24461, 40789, 14739, 20891, 20889, 40863, 23585, 13810, 18514, 64787, 60074, 3201, 62996, 2244, 49579, 51219, 31586, 5538, 36695, 51825, 65041, 65520, 41435, 49114, 67765, 24194, 21025, 45379, 48329, 30882, 20633, 9441, 36765, 64806, 2748, 14371, 69359, 63061, 59285, 38513, 41930, 1755, 63820, 67127, 19806, 45241, 52147, 69586, 53874, 28351, 61019, 26781, 12898, 24069, 60471, 18961, 10205, 38900, 37895, 68646, 25056, 64718, 760, 38416, 66369, 11207, 33493, 67201, 50161, 30059, 31183, 5949, 59268, 37258, 37264, 60442, 63403, 26020, 40292, 67100, 66318, 69912, 23959, 39688, 38997, 3266, 6830, 51952, 16044, 8989, 32300, 12116, 22224, 64147, 15836, 63933, 43978, 59894, 51532, 35476, 44308, 264, 25016, 24407, 41911, 27803, 31363, 57512, 57971, 7518, 20359, 30035, 60136, 60110, 25979, 69128, 59334, 772, 64703, 30893, 37636, 60828, 68279, 40712, 46346, 56365, 57296, 7609, 12899, 27280, 56985, 58423, 52523, 45152, 22377, 26791, 23316, 9889, 57799, 17441, 41501, 39150, 39683, 26782, 50911, 40422, 9461, 1922, 45677, 49087, 49234, 8750, 43856, 14504, 27168, 66057, 39300, 28087, 65562, 12860, 65813, 67009, 69011, 23234, 64494, 52785, 24008, 16316, 11080, 61320, 55237, 51427]\n",
      "(5000, 784)\n",
      "(5000,)\n"
     ]
    }
   ],
   "source": [
    "# TODO: Sampling\n",
    "from random import *\n",
    "seed(6)\n",
    "random_rows = sample(range(1, X.shape[0]), 5000)\n",
    "print(random_rows)\n",
    "mask = X.index.isin(random_rows)\n",
    "\n",
    "# X sample\n",
    "X_sample = X[mask]\n",
    "print(X_sample.shape)\n",
    "\n",
    "# y sample\n",
    "y_sample = y[mask]\n",
    "print(y_sample.shape)"
   ]
  },
  {
   "cell_type": "markdown",
   "metadata": {},
   "source": [
    "We separate sample data into training set and testing set. We will learn in the next lessons that it is critical if you want to evaluate properly the perfomance of your model. For now we will write the code line for you:"
   ]
  },
  {
   "cell_type": "code",
   "execution_count": 44,
   "metadata": {},
   "outputs": [],
   "source": [
    "from sklearn.model_selection import train_test_split\n",
    "X_train, X_test, y_train, y_test = train_test_split(X_sample, y_sample, train_size=0.8)"
   ]
  },
  {
   "cell_type": "markdown",
   "metadata": {},
   "source": [
    "**Q4**. Fit a Logistic Regression to the training data. Evaluate the performance of your model. Comment"
   ]
  },
  {
   "cell_type": "code",
   "execution_count": 46,
   "metadata": {},
   "outputs": [
    {
     "name": "stderr",
     "output_type": "stream",
     "text": [
      "/Users/schoolofdata/.pyenv/versions/3.10.12/envs/Artefact/lib/python3.10/site-packages/sklearn/linear_model/_logistic.py:460: ConvergenceWarning: lbfgs failed to converge (status=1):\n",
      "STOP: TOTAL NO. of ITERATIONS REACHED LIMIT.\n",
      "\n",
      "Increase the number of iterations (max_iter) or scale the data as shown in:\n",
      "    https://scikit-learn.org/stable/modules/preprocessing.html\n",
      "Please also refer to the documentation for alternative solver options:\n",
      "    https://scikit-learn.org/stable/modules/linear_model.html#logistic-regression\n",
      "  n_iter_i = _check_optimize_result(\n"
     ]
    }
   ],
   "source": [
    "# TODO: Logistic Regression\n",
    "from sklearn.linear_model import LogisticRegression\n",
    "lr = LogisticRegression()\n",
    "\n",
    "lr.fit(X_train, y_train)\n",
    "\n",
    "y_pred = lr.predict(X_test)"
   ]
  },
  {
   "cell_type": "code",
   "execution_count": 47,
   "metadata": {},
   "outputs": [
    {
     "name": "stdout",
     "output_type": "stream",
     "text": [
      "accurancy de LR: 0.868\n"
     ]
    }
   ],
   "source": [
    "# TODO: Logistic Regression Accuracy\n",
    "from sklearn.metrics import accuracy_score\n",
    "print(f'accurancy de LR: {accuracy_score(y_pred, y_test)}')"
   ]
  },
  {
   "cell_type": "code",
   "execution_count": null,
   "metadata": {},
   "outputs": [],
   "source": []
  }
 ],
 "metadata": {
  "kernelspec": {
   "display_name": "Python 3",
   "language": "python",
   "name": "python3"
  },
  "language_info": {
   "codemirror_mode": {
    "name": "ipython",
    "version": 3
   },
   "file_extension": ".py",
   "mimetype": "text/x-python",
   "name": "python",
   "nbconvert_exporter": "python",
   "pygments_lexer": "ipython3",
   "version": "3.10.12"
  },
  "toc": {
   "base_numbering": 1,
   "nav_menu": {},
   "number_sections": true,
   "sideBar": true,
   "skip_h1_title": false,
   "title_cell": "Table of Contents",
   "title_sidebar": "Contents",
   "toc_cell": false,
   "toc_position": {},
   "toc_section_display": true,
   "toc_window_display": false
  },
  "varInspector": {
   "cols": {
    "lenName": 16,
    "lenType": 16,
    "lenVar": 40
   },
   "kernels_config": {
    "python": {
     "delete_cmd_postfix": "",
     "delete_cmd_prefix": "del ",
     "library": "var_list.py",
     "varRefreshCmd": "print(var_dic_list())"
    },
    "r": {
     "delete_cmd_postfix": ") ",
     "delete_cmd_prefix": "rm(",
     "library": "var_list.r",
     "varRefreshCmd": "cat(var_dic_list()) "
    }
   },
   "types_to_exclude": [
    "module",
    "function",
    "builtin_function_or_method",
    "instance",
    "_Feature"
   ],
   "window_display": false
  }
 },
 "nbformat": 4,
 "nbformat_minor": 2
}
