{
 "cells": [
  {
   "cell_type": "code",
   "execution_count": 66,
   "metadata": {},
   "outputs": [],
   "source": [
    "import pandas as pd # for CSV file I/O operations\n",
    "train = pd.read_csv('../input/Train_set.csv')\n",
    "test = pd.read_csv('../input/Test_set.csv')"
   ]
  },
  {
   "cell_type": "code",
   "execution_count": 67,
   "metadata": {},
   "outputs": [
    {
     "name": "stdout",
     "output_type": "stream",
     "text": [
      "(371, 7)\n",
      "(529, 6)\n"
     ]
    }
   ],
   "source": [
    "print(train.shape)\n",
    "print(test.shape)"
   ]
  },
  {
   "cell_type": "code",
   "execution_count": 68,
   "metadata": {},
   "outputs": [
    {
     "name": "stdout",
     "output_type": "stream",
     "text": [
      "(371, 5)\n",
      "train[color].unique() ['clear' 'green' 'black' 'white' 'blue' 'blood']\n",
      "(371, 1)\n",
      "X_train after one-hot-encoding:\n",
      "   bone_length  rotting_flesh  hair_length  has_soul  color_black  \\\n",
      "0     0.354512       0.350839     0.465761  0.781142            0   \n",
      "1     0.575560       0.425868     0.531401  0.439899            0   \n",
      "2     0.467875       0.354330     0.811616  0.791225            1   \n",
      "3     0.776652       0.508723     0.636766  0.884464            1   \n",
      "4     0.566117       0.875862     0.418594  0.636438            0   \n",
      "\n",
      "   color_blood  color_blue  color_clear  color_green  color_white  \n",
      "0            0           0            1            0            0  \n",
      "1            0           0            0            1            0  \n",
      "2            0           0            0            0            0  \n",
      "3            0           0            0            0            0  \n",
      "4            0           0            0            1            0  \n",
      "Index(['bone_length', 'rotting_flesh', 'hair_length', 'has_soul',\n",
      "       'color_black', 'color_blood', 'color_blue', 'color_clear',\n",
      "       'color_green', 'color_white'],\n",
      "      dtype='object')\n"
     ]
    }
   ],
   "source": [
    "# !!!!! ATTENTION: je skippe dans un premier temps la c; color car elle me pose un pb de format dans le training\n",
    "\n",
    "X_train = train.loc[:, train.columns != 'type'] #train.drop('type', axis=1)\n",
    "\n",
    "# correctif sur base Livecode: drop 'id'\n",
    "X_train = X_train.loc[:, X_train.columns != 'id']\n",
    "\n",
    "#X_train = X_train.loc[:, X_train.columns != 'color']\n",
    "print(X_train.shape)\n",
    "X_train.head()\n",
    "print(f\"train[color].unique() {train['color'].unique()}\")\n",
    "#train[color].unique() ['clear' 'green' 'black' 'white' 'blue' 'blood']\n",
    "\n",
    "y_train = train.loc[:, train.columns == 'type'] #train['type']\n",
    "print(y_train.shape)\n",
    "y_train.head()\n",
    "\n",
    "\n",
    "# from datascience.stackexchange for one-hot-encoding of categorical cols\n",
    "# https://datascience.stackexchange.com/questions/71804/how-to-perform-one-hot-encoding-on-multiple-categorical-columns\n",
    "\n",
    "#import pandas as pd\n",
    "df = pd.get_dummies(X_train, columns = ['color'])\n",
    "\n",
    "X_train = df\n",
    "print(f'X_train after one-hot-encoding:')\n",
    "print(f'{X_train.head()}')\n",
    "print(f'{X_train.columns}')\n",
    "\n"
   ]
  },
  {
   "cell_type": "markdown",
   "metadata": {},
   "source": [
    "# KNN classifer"
   ]
  },
  {
   "cell_type": "code",
   "execution_count": 69,
   "metadata": {},
   "outputs": [],
   "source": [
    "from sklearn.neighbors import KNeighborsClassifier"
   ]
  },
  {
   "cell_type": "code",
   "execution_count": 70,
   "metadata": {},
   "outputs": [
    {
     "name": "stderr",
     "output_type": "stream",
     "text": [
      "/Users/schoolofdata/.pyenv/versions/3.10.12/envs/Artefact/lib/python3.10/site-packages/sklearn/neighbors/_classification.py:233: DataConversionWarning: A column-vector y was passed when a 1d array was expected. Please change the shape of y to (n_samples,), for example using ravel().\n",
      "  return self._fit(X, y)\n"
     ]
    },
    {
     "data": {
      "text/html": [
       "<style>#sk-container-id-9 {color: black;}#sk-container-id-9 pre{padding: 0;}#sk-container-id-9 div.sk-toggleable {background-color: white;}#sk-container-id-9 label.sk-toggleable__label {cursor: pointer;display: block;width: 100%;margin-bottom: 0;padding: 0.3em;box-sizing: border-box;text-align: center;}#sk-container-id-9 label.sk-toggleable__label-arrow:before {content: \"▸\";float: left;margin-right: 0.25em;color: #696969;}#sk-container-id-9 label.sk-toggleable__label-arrow:hover:before {color: black;}#sk-container-id-9 div.sk-estimator:hover label.sk-toggleable__label-arrow:before {color: black;}#sk-container-id-9 div.sk-toggleable__content {max-height: 0;max-width: 0;overflow: hidden;text-align: left;background-color: #f0f8ff;}#sk-container-id-9 div.sk-toggleable__content pre {margin: 0.2em;color: black;border-radius: 0.25em;background-color: #f0f8ff;}#sk-container-id-9 input.sk-toggleable__control:checked~div.sk-toggleable__content {max-height: 200px;max-width: 100%;overflow: auto;}#sk-container-id-9 input.sk-toggleable__control:checked~label.sk-toggleable__label-arrow:before {content: \"▾\";}#sk-container-id-9 div.sk-estimator input.sk-toggleable__control:checked~label.sk-toggleable__label {background-color: #d4ebff;}#sk-container-id-9 div.sk-label input.sk-toggleable__control:checked~label.sk-toggleable__label {background-color: #d4ebff;}#sk-container-id-9 input.sk-hidden--visually {border: 0;clip: rect(1px 1px 1px 1px);clip: rect(1px, 1px, 1px, 1px);height: 1px;margin: -1px;overflow: hidden;padding: 0;position: absolute;width: 1px;}#sk-container-id-9 div.sk-estimator {font-family: monospace;background-color: #f0f8ff;border: 1px dotted black;border-radius: 0.25em;box-sizing: border-box;margin-bottom: 0.5em;}#sk-container-id-9 div.sk-estimator:hover {background-color: #d4ebff;}#sk-container-id-9 div.sk-parallel-item::after {content: \"\";width: 100%;border-bottom: 1px solid gray;flex-grow: 1;}#sk-container-id-9 div.sk-label:hover label.sk-toggleable__label {background-color: #d4ebff;}#sk-container-id-9 div.sk-serial::before {content: \"\";position: absolute;border-left: 1px solid gray;box-sizing: border-box;top: 0;bottom: 0;left: 50%;z-index: 0;}#sk-container-id-9 div.sk-serial {display: flex;flex-direction: column;align-items: center;background-color: white;padding-right: 0.2em;padding-left: 0.2em;position: relative;}#sk-container-id-9 div.sk-item {position: relative;z-index: 1;}#sk-container-id-9 div.sk-parallel {display: flex;align-items: stretch;justify-content: center;background-color: white;position: relative;}#sk-container-id-9 div.sk-item::before, #sk-container-id-9 div.sk-parallel-item::before {content: \"\";position: absolute;border-left: 1px solid gray;box-sizing: border-box;top: 0;bottom: 0;left: 50%;z-index: -1;}#sk-container-id-9 div.sk-parallel-item {display: flex;flex-direction: column;z-index: 1;position: relative;background-color: white;}#sk-container-id-9 div.sk-parallel-item:first-child::after {align-self: flex-end;width: 50%;}#sk-container-id-9 div.sk-parallel-item:last-child::after {align-self: flex-start;width: 50%;}#sk-container-id-9 div.sk-parallel-item:only-child::after {width: 0;}#sk-container-id-9 div.sk-dashed-wrapped {border: 1px dashed gray;margin: 0 0.4em 0.5em 0.4em;box-sizing: border-box;padding-bottom: 0.4em;background-color: white;}#sk-container-id-9 div.sk-label label {font-family: monospace;font-weight: bold;display: inline-block;line-height: 1.2em;}#sk-container-id-9 div.sk-label-container {text-align: center;}#sk-container-id-9 div.sk-container {/* jupyter's `normalize.less` sets `[hidden] { display: none; }` but bootstrap.min.css set `[hidden] { display: none !important; }` so we also need the `!important` here to be able to override the default hidden behavior on the sphinx rendered scikit-learn.org. See: https://github.com/scikit-learn/scikit-learn/issues/21755 */display: inline-block !important;position: relative;}#sk-container-id-9 div.sk-text-repr-fallback {display: none;}</style><div id=\"sk-container-id-9\" class=\"sk-top-container\"><div class=\"sk-text-repr-fallback\"><pre>KNeighborsClassifier(n_neighbors=3)</pre><b>In a Jupyter environment, please rerun this cell to show the HTML representation or trust the notebook. <br />On GitHub, the HTML representation is unable to render, please try loading this page with nbviewer.org.</b></div><div class=\"sk-container\" hidden><div class=\"sk-item\"><div class=\"sk-estimator sk-toggleable\"><input class=\"sk-toggleable__control sk-hidden--visually\" id=\"sk-estimator-id-9\" type=\"checkbox\" checked><label for=\"sk-estimator-id-9\" class=\"sk-toggleable__label sk-toggleable__label-arrow\">KNeighborsClassifier</label><div class=\"sk-toggleable__content\"><pre>KNeighborsClassifier(n_neighbors=3)</pre></div></div></div></div></div>"
      ],
      "text/plain": [
       "KNeighborsClassifier(n_neighbors=3)"
      ]
     },
     "execution_count": 70,
     "metadata": {},
     "output_type": "execute_result"
    }
   ],
   "source": [
    "# TODO: kNN with k=3\n",
    "# !!!! Attention à réintroduire la col 'color'\n",
    "# pourquoi la colonne string color n'est pas acceptée par le fit ?\n",
    "knn3 = KNeighborsClassifier(n_neighbors=3)\n",
    "knn3.fit(X_train, y_train)"
   ]
  },
  {
   "cell_type": "code",
   "execution_count": 71,
   "metadata": {},
   "outputs": [
    {
     "name": "stdout",
     "output_type": "stream",
     "text": [
      "X.shape (371, 10)\n",
      "y.shape (371, 1)\n",
      "<class 'pandas.core.frame.DataFrame'>\n",
      "<class 'pandas.core.frame.DataFrame'>\n"
     ]
    }
   ],
   "source": [
    "# Attention : test.csv n'a pas le flags sur le types de ghost !\n",
    "# => il faut donc utiliser une partie du Train en tant que test pour mesurer l'accuracy \n",
    "from sklearn.model_selection import train_test_split\n",
    "X = X_train\n",
    "y = y_train\n",
    "\n",
    "print(f'X.shape {X.shape}')\n",
    "print(f'y.shape {y.shape}')\n",
    "\n",
    "X_train, X_test, y_train, y_test = train_test_split(X, y, test_size=0.15, shuffle=True, random_state=42)\n",
    "\n",
    "X_train.head()\n",
    "#X_train.columns\n",
    "\n",
    "#y_train.head()\n",
    "#y_train.columns\n",
    "\n",
    "print(type(X_train))\n",
    "print(type(y_train))\n"
   ]
  },
  {
   "cell_type": "code",
   "execution_count": 72,
   "metadata": {},
   "outputs": [
    {
     "name": "stderr",
     "output_type": "stream",
     "text": [
      "/Users/schoolofdata/.pyenv/versions/3.10.12/envs/Artefact/lib/python3.10/site-packages/sklearn/neighbors/_classification.py:233: DataConversionWarning: A column-vector y was passed when a 1d array was expected. Please change the shape of y to (n_samples,), for example using ravel().\n",
      "  return self._fit(X, y)\n",
      "/Users/schoolofdata/.pyenv/versions/3.10.12/envs/Artefact/lib/python3.10/site-packages/sklearn/neighbors/_classification.py:233: DataConversionWarning: A column-vector y was passed when a 1d array was expected. Please change the shape of y to (n_samples,), for example using ravel().\n",
      "  return self._fit(X, y)\n"
     ]
    },
    {
     "data": {
      "text/html": [
       "<style>#sk-container-id-10 {color: black;}#sk-container-id-10 pre{padding: 0;}#sk-container-id-10 div.sk-toggleable {background-color: white;}#sk-container-id-10 label.sk-toggleable__label {cursor: pointer;display: block;width: 100%;margin-bottom: 0;padding: 0.3em;box-sizing: border-box;text-align: center;}#sk-container-id-10 label.sk-toggleable__label-arrow:before {content: \"▸\";float: left;margin-right: 0.25em;color: #696969;}#sk-container-id-10 label.sk-toggleable__label-arrow:hover:before {color: black;}#sk-container-id-10 div.sk-estimator:hover label.sk-toggleable__label-arrow:before {color: black;}#sk-container-id-10 div.sk-toggleable__content {max-height: 0;max-width: 0;overflow: hidden;text-align: left;background-color: #f0f8ff;}#sk-container-id-10 div.sk-toggleable__content pre {margin: 0.2em;color: black;border-radius: 0.25em;background-color: #f0f8ff;}#sk-container-id-10 input.sk-toggleable__control:checked~div.sk-toggleable__content {max-height: 200px;max-width: 100%;overflow: auto;}#sk-container-id-10 input.sk-toggleable__control:checked~label.sk-toggleable__label-arrow:before {content: \"▾\";}#sk-container-id-10 div.sk-estimator input.sk-toggleable__control:checked~label.sk-toggleable__label {background-color: #d4ebff;}#sk-container-id-10 div.sk-label input.sk-toggleable__control:checked~label.sk-toggleable__label {background-color: #d4ebff;}#sk-container-id-10 input.sk-hidden--visually {border: 0;clip: rect(1px 1px 1px 1px);clip: rect(1px, 1px, 1px, 1px);height: 1px;margin: -1px;overflow: hidden;padding: 0;position: absolute;width: 1px;}#sk-container-id-10 div.sk-estimator {font-family: monospace;background-color: #f0f8ff;border: 1px dotted black;border-radius: 0.25em;box-sizing: border-box;margin-bottom: 0.5em;}#sk-container-id-10 div.sk-estimator:hover {background-color: #d4ebff;}#sk-container-id-10 div.sk-parallel-item::after {content: \"\";width: 100%;border-bottom: 1px solid gray;flex-grow: 1;}#sk-container-id-10 div.sk-label:hover label.sk-toggleable__label {background-color: #d4ebff;}#sk-container-id-10 div.sk-serial::before {content: \"\";position: absolute;border-left: 1px solid gray;box-sizing: border-box;top: 0;bottom: 0;left: 50%;z-index: 0;}#sk-container-id-10 div.sk-serial {display: flex;flex-direction: column;align-items: center;background-color: white;padding-right: 0.2em;padding-left: 0.2em;position: relative;}#sk-container-id-10 div.sk-item {position: relative;z-index: 1;}#sk-container-id-10 div.sk-parallel {display: flex;align-items: stretch;justify-content: center;background-color: white;position: relative;}#sk-container-id-10 div.sk-item::before, #sk-container-id-10 div.sk-parallel-item::before {content: \"\";position: absolute;border-left: 1px solid gray;box-sizing: border-box;top: 0;bottom: 0;left: 50%;z-index: -1;}#sk-container-id-10 div.sk-parallel-item {display: flex;flex-direction: column;z-index: 1;position: relative;background-color: white;}#sk-container-id-10 div.sk-parallel-item:first-child::after {align-self: flex-end;width: 50%;}#sk-container-id-10 div.sk-parallel-item:last-child::after {align-self: flex-start;width: 50%;}#sk-container-id-10 div.sk-parallel-item:only-child::after {width: 0;}#sk-container-id-10 div.sk-dashed-wrapped {border: 1px dashed gray;margin: 0 0.4em 0.5em 0.4em;box-sizing: border-box;padding-bottom: 0.4em;background-color: white;}#sk-container-id-10 div.sk-label label {font-family: monospace;font-weight: bold;display: inline-block;line-height: 1.2em;}#sk-container-id-10 div.sk-label-container {text-align: center;}#sk-container-id-10 div.sk-container {/* jupyter's `normalize.less` sets `[hidden] { display: none; }` but bootstrap.min.css set `[hidden] { display: none !important; }` so we also need the `!important` here to be able to override the default hidden behavior on the sphinx rendered scikit-learn.org. See: https://github.com/scikit-learn/scikit-learn/issues/21755 */display: inline-block !important;position: relative;}#sk-container-id-10 div.sk-text-repr-fallback {display: none;}</style><div id=\"sk-container-id-10\" class=\"sk-top-container\"><div class=\"sk-text-repr-fallback\"><pre>KNeighborsClassifier()</pre><b>In a Jupyter environment, please rerun this cell to show the HTML representation or trust the notebook. <br />On GitHub, the HTML representation is unable to render, please try loading this page with nbviewer.org.</b></div><div class=\"sk-container\" hidden><div class=\"sk-item\"><div class=\"sk-estimator sk-toggleable\"><input class=\"sk-toggleable__control sk-hidden--visually\" id=\"sk-estimator-id-10\" type=\"checkbox\" checked><label for=\"sk-estimator-id-10\" class=\"sk-toggleable__label sk-toggleable__label-arrow\">KNeighborsClassifier</label><div class=\"sk-toggleable__content\"><pre>KNeighborsClassifier()</pre></div></div></div></div></div>"
      ],
      "text/plain": [
       "KNeighborsClassifier()"
      ]
     },
     "execution_count": 72,
     "metadata": {},
     "output_type": "execute_result"
    }
   ],
   "source": [
    "#KNN3\n",
    "knn3 = KNeighborsClassifier(n_neighbors=3)\n",
    "knn3.fit(X_train, y_train)\n",
    "\n",
    "#KNN5\n",
    "knn5 = KNeighborsClassifier(n_neighbors=5)\n",
    "knn5.fit(X_train, y_train)"
   ]
  },
  {
   "cell_type": "code",
   "execution_count": 73,
   "metadata": {},
   "outputs": [
    {
     "name": "stdout",
     "output_type": "stream",
     "text": [
      "accuracy KNN3 : 0.625\n",
      "X_train.head      bone_length  rotting_flesh  hair_length  has_soul  color_black  \\\n",
      "93      0.440696       0.408872     0.541966  0.569011            0   \n",
      "3       0.776652       0.508723     0.636766  0.884464            1   \n",
      "350     0.203073       0.165539     0.299507  0.425802            0   \n",
      "77      0.237046       0.634643     0.290655  0.304283            0   \n",
      "132     0.667182       0.414140     0.518710  0.456213            0   \n",
      "\n",
      "     color_blood  color_blue  color_clear  color_green  color_white  \n",
      "93             0           0            0            0            1  \n",
      "3              0           0            0            0            0  \n",
      "350            0           0            1            0            0  \n",
      "77             0           0            0            0            1  \n",
      "132            0           0            1            0            0  \n",
      "y_train.head       type\n",
      "93   Ghoul\n",
      "3    Ghoul\n",
      "350  Ghost\n",
      "77   Ghost\n",
      "132  Ghoul\n",
      "X_train.index Int64Index([ 93,   3, 350,  77, 132, 310,  78,  46, 220,  73,\n",
      "            ...\n",
      "            214, 121, 370,  20, 188,  71, 106, 270, 348, 102],\n",
      "           dtype='int64', length=315)\n",
      "y_train.index Int64Index([ 93,   3, 350,  77, 132, 310,  78,  46, 220,  73,\n",
      "            ...\n",
      "            214, 121, 370,  20, 188,  71, 106, 270, 348, 102],\n",
      "           dtype='int64', length=315)\n",
      "len X_train.index 315\n",
      "len y_train.index 315\n"
     ]
    }
   ],
   "source": [
    "y_pred3 = knn3.predict(X_test)\n",
    "\n",
    "# accuracy de knn3 sur l'ensemble de test\n",
    "from sklearn.metrics import accuracy_score\n",
    "print(f'accuracy KNN3 : {accuracy_score(y_pred3, y_test)}')\n",
    "\n",
    "# vérification phasage entre X_train et y_train\n",
    "print(f'X_train.head {X_train.head()}')\n",
    "print(f'y_train.head {y_train.head()}')\n",
    "\n",
    "print(f'X_train.index {X_train.index}')\n",
    "print(f'y_train.index {y_train.index}')\n",
    "\n",
    "print(f'len X_train.index {len(X_train.index)}')\n",
    "print(f'len y_train.index {len(y_train.index)}')"
   ]
  },
  {
   "cell_type": "code",
   "execution_count": 74,
   "metadata": {},
   "outputs": [
    {
     "name": "stdout",
     "output_type": "stream",
     "text": [
      "X_train.shape (315, 10)\n",
      "X_test.shape (56, 10)\n",
      "accuracy KNN5 : 0.6607142857142857\n"
     ]
    }
   ],
   "source": [
    "y_pred5 = knn5.predict(X_test)\n",
    "\n",
    "print(f'X_train.shape {X_train.shape}')\n",
    "print(f'X_test.shape {X_test.shape}')\n",
    "\n",
    "# accuracy de knn5 sur l'ensemble de test\n",
    "from sklearn.metrics import accuracy_score\n",
    "print(f'accuracy KNN5 : {accuracy_score(y_pred5, y_test)}')"
   ]
  },
  {
   "cell_type": "markdown",
   "metadata": {},
   "source": [
    "# Logistic regression"
   ]
  },
  {
   "cell_type": "code",
   "execution_count": 75,
   "metadata": {},
   "outputs": [
    {
     "name": "stderr",
     "output_type": "stream",
     "text": [
      "/Users/schoolofdata/.pyenv/versions/3.10.12/envs/Artefact/lib/python3.10/site-packages/sklearn/utils/validation.py:1183: DataConversionWarning: A column-vector y was passed when a 1d array was expected. Please change the shape of y to (n_samples, ), for example using ravel().\n",
      "  y = column_or_1d(y, warn=True)\n"
     ]
    }
   ],
   "source": [
    "# TODO: Logistic Regression\n",
    "from sklearn.linear_model import LogisticRegression\n",
    "\n",
    "lr = LogisticRegression()\n",
    "\n",
    "lr.fit(X_train, y_train)\n",
    "\n",
    "y_pred = lr.predict(X_test)"
   ]
  },
  {
   "cell_type": "code",
   "execution_count": 76,
   "metadata": {},
   "outputs": [
    {
     "name": "stdout",
     "output_type": "stream",
     "text": [
      "accurancy de LR: 0.6964285714285714\n"
     ]
    }
   ],
   "source": [
    "# TODO: Logistic Regression Accuracy\n",
    "from sklearn.metrics import accuracy_score\n",
    "print(f'accurancy de LR: {accuracy_score(y_pred, y_test)}')"
   ]
  }
 ],
 "metadata": {
  "kernelspec": {
   "display_name": "Artefact",
   "language": "python",
   "name": "python3"
  },
  "language_info": {
   "codemirror_mode": {
    "name": "ipython",
    "version": 3
   },
   "file_extension": ".py",
   "mimetype": "text/x-python",
   "name": "python",
   "nbconvert_exporter": "python",
   "pygments_lexer": "ipython3",
   "version": "3.10.12"
  }
 },
 "nbformat": 4,
 "nbformat_minor": 2
}
